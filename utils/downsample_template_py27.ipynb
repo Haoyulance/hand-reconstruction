{
 "cells": [
  {
   "cell_type": "code",
   "execution_count": null,
   "metadata": {},
   "outputs": [],
   "source": [
    "\"\"\"\n",
    "It is assumed that the COMA library is in the coma_lib directory:\n",
    "\n",
    "https://github.com/anuragranj/coma/tree/master/lib\n",
    "\"\"\"\n",
    "\n",
    "import sys\n",
    "sys.path.append('./coma_lib')\n",
    "\n",
    "import warnings\n",
    "warnings.simplefilter(action='ignore', category=FutureWarning)\n",
    "\n",
    "import cPickle as pickle\n",
    "import glob\n",
    "import menpo3d.io as m3io\n",
    "from menpo.shape import TriMesh, PointCloud\n",
    "from os.path import join\n",
    "\n",
    "import pyface.qt\n",
    "import numpy as np\n",
    "\n",
    "import mesh_sampling\n",
    "from psbody.mesh import Mesh\n",
    "\n",
    "from compute_operators import *\n",
    "from utils import laplacian\n",
    "\n",
    "%matplotlib qt"
   ]
  },
  {
   "cell_type": "markdown",
   "metadata": {
    "collapsed": true
   },
   "source": [
    "## Import a mesh"
   ]
  },
  {
   "cell_type": "code",
   "execution_count": null,
   "metadata": {},
   "outputs": [],
   "source": [
    "DATA_PATH = '../data/'\n",
    "TYPE = 'template'\n",
    "COARSENING = 'sampling_4'\n",
    "\n",
    "template = Mesh(filename=join(DATA_PATH, TYPE, 'template_triangulated.obj'))"
   ]
  },
  {
   "cell_type": "markdown",
   "metadata": {},
   "source": [
    "## Compute mesh sampling transforms from the COMA code"
   ]
  },
  {
   "cell_type": "code",
   "execution_count": null,
   "metadata": {},
   "outputs": [],
   "source": [
    "# sampling_factors = 1.0 / np.array([2] * 8)\n",
    "# pooling_data = compute_downsampling_transforms(template, sampling_factors)"
   ]
  },
  {
   "cell_type": "markdown",
   "metadata": {},
   "source": [
    "## Compute mesh sampling transforms from the decimated meshes"
   ]
  },
  {
   "cell_type": "code",
   "execution_count": null,
   "metadata": {},
   "outputs": [],
   "source": [
    "# Import decimated meshes.\n",
    "downsampled_paths = glob.glob(join(DATA_PATH, TYPE, COARSENING, 'downsampled_meshes', '*.obj'))\n",
    "downsampled_paths.sort()\n",
    "down_meshes = [template] + [Mesh(filename=path) for path in downsampled_paths]\n",
    "\n",
    "# Specify the sampling factors for clarity.\n",
    "sampling_factors = 1.0 / np.array([4, 4, 2, 2])\n",
    "pooling_data = compute_transforms_from_downsampled_meshes(down_meshes, template, sampling_factors)"
   ]
  },
  {
   "cell_type": "markdown",
   "metadata": {},
   "source": [
    "## Visualize downsampled meshes"
   ]
  },
  {
   "cell_type": "code",
   "execution_count": null,
   "metadata": {},
   "outputs": [],
   "source": [
    "down_meshes = pooling_data['down_meshes']\n",
    "for down_mesh in down_meshes:\n",
    "    TriMesh(down_mesh.v, down_mesh.f).view(colour='c')\n",
    "    print(len(down_mesh.v))"
   ]
  },
  {
   "cell_type": "markdown",
   "metadata": {},
   "source": [
    "## Export meshes"
   ]
  },
  {
   "cell_type": "code",
   "execution_count": null,
   "metadata": {},
   "outputs": [],
   "source": [
    "# for down_mesh in down_meshes:\n",
    "#     m3io.export_mesh(TriMesh(down_mesh.v, down_mesh.f), str(ii) + '.obj')"
   ]
  },
  {
   "cell_type": "markdown",
   "metadata": {},
   "source": [
    "## Export the pooling data"
   ]
  },
  {
   "cell_type": "code",
   "execution_count": null,
   "metadata": {},
   "outputs": [],
   "source": [
    "D = pooling_data['down_transforms']\n",
    "U = pooling_data['up_transforms']\n",
    "\n",
    "transforms = {'down_transforms' : D, 'up_transforms' : U}\n",
    "\n",
    "pickle.dump(pooling_data, open(join(DATA_PATH, TYPE, COARSENING, 'operators', 'pooling.p'), 'wb'))\n",
    "pickle.dump(transforms, open(join(DATA_PATH, TYPE, COARSENING, 'operators', 'transforms.p'), 'wb'))"
   ]
  },
  {
   "cell_type": "markdown",
   "metadata": {},
   "source": [
    "## Compute the Laplacian of the adjacency matrix"
   ]
  },
  {
   "cell_type": "code",
   "execution_count": null,
   "metadata": {},
   "outputs": [],
   "source": [
    "L = compute_laplacian(pooling_data['adj_matrices'])\n",
    "spec = {'laplacian' : L, 'adjacency': pooling_data['adj_matrices']}\n",
    "\n",
    "pickle.dump(spec, open(join(DATA_PATH, TYPE, COARSENING, 'operators', 'spectral_LA.p'), 'wb'))"
   ]
  },
  {
   "cell_type": "code",
   "execution_count": null,
   "metadata": {},
   "outputs": [],
   "source": []
  }
 ],
 "metadata": {
  "kernelspec": {
   "display_name": "Python 3",
   "language": "python",
   "name": "python3"
  },
  "language_info": {
   "codemirror_mode": {
    "name": "ipython",
    "version": 3
   },
   "file_extension": ".py",
   "mimetype": "text/x-python",
   "name": "python",
   "nbconvert_exporter": "python",
   "pygments_lexer": "ipython3",
   "version": "3.6.7"
  }
 },
 "nbformat": 4,
 "nbformat_minor": 1
}
